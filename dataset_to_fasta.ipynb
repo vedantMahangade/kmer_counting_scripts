{
 "cells": [
  {
   "cell_type": "code",
   "execution_count": 5,
   "metadata": {},
   "outputs": [],
   "source": [
    "import pandas\n",
    "from Bio import SeqIO\n",
    "from Bio.SeqRecord import SeqRecord\n",
    "from Bio.Seq import Seq"
   ]
  },
  {
   "cell_type": "code",
   "execution_count": 2,
   "metadata": {},
   "outputs": [],
   "source": [
    "path = '/Users/vedantmahangade/Projects/giduded_tokenizer/data/gue_promoter/train.csv'"
   ]
  },
  {
   "cell_type": "code",
   "execution_count": 3,
   "metadata": {},
   "outputs": [],
   "source": [
    "df = pandas.read_csv(path)"
   ]
  },
  {
   "cell_type": "code",
   "execution_count": 4,
   "metadata": {},
   "outputs": [
    {
     "data": {
      "text/html": [
       "<div>\n",
       "<style scoped>\n",
       "    .dataframe tbody tr th:only-of-type {\n",
       "        vertical-align: middle;\n",
       "    }\n",
       "\n",
       "    .dataframe tbody tr th {\n",
       "        vertical-align: top;\n",
       "    }\n",
       "\n",
       "    .dataframe thead th {\n",
       "        text-align: right;\n",
       "    }\n",
       "</style>\n",
       "<table border=\"1\" class=\"dataframe\">\n",
       "  <thead>\n",
       "    <tr style=\"text-align: right;\">\n",
       "      <th></th>\n",
       "      <th>sequence</th>\n",
       "      <th>label</th>\n",
       "    </tr>\n",
       "  </thead>\n",
       "  <tbody>\n",
       "    <tr>\n",
       "      <th>0</th>\n",
       "      <td>CCAGGTCCCGGGAGCGCCACGGAACCTAACGGTGGCAGCGGAGGTC...</td>\n",
       "      <td>1</td>\n",
       "    </tr>\n",
       "    <tr>\n",
       "      <th>1</th>\n",
       "      <td>CCGGCCGAGCTCAGCACCGAGGCGCCCCCCAACCTGCCCAGCCCCC...</td>\n",
       "      <td>0</td>\n",
       "    </tr>\n",
       "    <tr>\n",
       "      <th>2</th>\n",
       "      <td>CACCTTGGACTTGGGACCAGAAAGAGGTGGGTTGGGTGAAGAGGCA...</td>\n",
       "      <td>1</td>\n",
       "    </tr>\n",
       "    <tr>\n",
       "      <th>3</th>\n",
       "      <td>CCTCCCTCCCCTAGAACACCCTCCTCATACCTGGCCTTTGGTCTTC...</td>\n",
       "      <td>1</td>\n",
       "    </tr>\n",
       "    <tr>\n",
       "      <th>4</th>\n",
       "      <td>CAATTTTGATTATCTGACAACATGATGTCCAAACTGAGGTATTTAT...</td>\n",
       "      <td>1</td>\n",
       "    </tr>\n",
       "    <tr>\n",
       "      <th>...</th>\n",
       "      <td>...</td>\n",
       "      <td>...</td>\n",
       "    </tr>\n",
       "    <tr>\n",
       "      <th>4899</th>\n",
       "      <td>CCCGGAATTGCAGTGGGCTTTCTGAGCTGTGCGACCTAGGTGAGTT...</td>\n",
       "      <td>0</td>\n",
       "    </tr>\n",
       "    <tr>\n",
       "      <th>4900</th>\n",
       "      <td>GCGTGGGCCGGGTTGTCAGGGCGCGGGGGCGAGAGGCGGGTAAATA...</td>\n",
       "      <td>1</td>\n",
       "    </tr>\n",
       "    <tr>\n",
       "      <th>4901</th>\n",
       "      <td>GGTGACTGAGTTACCCCTCAACACGCAGAAAAAGCTAGTGGCCGCT...</td>\n",
       "      <td>1</td>\n",
       "    </tr>\n",
       "    <tr>\n",
       "      <th>4902</th>\n",
       "      <td>GGTATTGTGTTTGTGTGTGAGTTTTGAACTGAGTCACCTACGGCTG...</td>\n",
       "      <td>1</td>\n",
       "    </tr>\n",
       "    <tr>\n",
       "      <th>4903</th>\n",
       "      <td>GGCCCAGCCAGAGGGACGTCGGGTCACACTCTTTAGCTTTACCAAC...</td>\n",
       "      <td>0</td>\n",
       "    </tr>\n",
       "  </tbody>\n",
       "</table>\n",
       "<p>4904 rows × 2 columns</p>\n",
       "</div>"
      ],
      "text/plain": [
       "                                               sequence  label\n",
       "0     CCAGGTCCCGGGAGCGCCACGGAACCTAACGGTGGCAGCGGAGGTC...      1\n",
       "1     CCGGCCGAGCTCAGCACCGAGGCGCCCCCCAACCTGCCCAGCCCCC...      0\n",
       "2     CACCTTGGACTTGGGACCAGAAAGAGGTGGGTTGGGTGAAGAGGCA...      1\n",
       "3     CCTCCCTCCCCTAGAACACCCTCCTCATACCTGGCCTTTGGTCTTC...      1\n",
       "4     CAATTTTGATTATCTGACAACATGATGTCCAAACTGAGGTATTTAT...      1\n",
       "...                                                 ...    ...\n",
       "4899  CCCGGAATTGCAGTGGGCTTTCTGAGCTGTGCGACCTAGGTGAGTT...      0\n",
       "4900  GCGTGGGCCGGGTTGTCAGGGCGCGGGGGCGAGAGGCGGGTAAATA...      1\n",
       "4901  GGTGACTGAGTTACCCCTCAACACGCAGAAAAAGCTAGTGGCCGCT...      1\n",
       "4902  GGTATTGTGTTTGTGTGTGAGTTTTGAACTGAGTCACCTACGGCTG...      1\n",
       "4903  GGCCCAGCCAGAGGGACGTCGGGTCACACTCTTTAGCTTTACCAAC...      0\n",
       "\n",
       "[4904 rows x 2 columns]"
      ]
     },
     "execution_count": 4,
     "metadata": {},
     "output_type": "execute_result"
    }
   ],
   "source": [
    "df"
   ]
  },
  {
   "cell_type": "code",
   "execution_count": 6,
   "metadata": {},
   "outputs": [],
   "source": [
    "def save_fasta(df, label, output_file):\n",
    "    records = [\n",
    "        SeqRecord(Seq(seq), id=str(index), description=\"\")\n",
    "        for index, (seq, lbl) in df.iterrows() if lbl == label\n",
    "    ]\n",
    "    SeqIO.write(records, output_file, \"fasta\")"
   ]
  },
  {
   "cell_type": "code",
   "execution_count": 7,
   "metadata": {},
   "outputs": [],
   "source": [
    "save_fasta(df, 1, \"prom_sequences.fasta\")\n",
    "save_fasta(df, 0, \"non_prom_sequences.fasta\")"
   ]
  },
  {
   "cell_type": "code",
   "execution_count": 4,
   "metadata": {},
   "outputs": [],
   "source": [
    "from transformers import AutoTokenizer\n",
    "\n",
    "\n",
    "# if __name__ == \"__main__\":\n",
    "tokenizer = AutoTokenizer.from_pretrained(\n",
    "    \"zhihan1996/DNABERT-2-117M\",\n",
    "    model_max_length=512,\n",
    "    padding_side=\"right\",\n",
    "    use_fast=True,\n",
    "    trust_remote_code=True,\n",
    ")"
   ]
  },
  {
   "cell_type": "code",
   "execution_count": 5,
   "metadata": {},
   "outputs": [],
   "source": [
    "vocab = tokenizer.get_vocab()\n",
    "inv_vocab = {v: k for k, v in vocab.items()}\n",
    "token_vocab_set = set(inv_vocab.values()) "
   ]
  },
  {
   "cell_type": "code",
   "execution_count": 6,
   "metadata": {},
   "outputs": [],
   "source": [
    "\n",
    "with open('vocab_tokens', \"w\") as final_out:\n",
    "    final_out.write(\"\\n\".join(token_vocab_set) + \"\\n\")"
   ]
  },
  {
   "cell_type": "code",
   "execution_count": null,
   "metadata": {},
   "outputs": [],
   "source": []
  }
 ],
 "metadata": {
  "kernelspec": {
   "display_name": "dna",
   "language": "python",
   "name": "python3"
  },
  "language_info": {
   "codemirror_mode": {
    "name": "ipython",
    "version": 3
   },
   "file_extension": ".py",
   "mimetype": "text/x-python",
   "name": "python",
   "nbconvert_exporter": "python",
   "pygments_lexer": "ipython3",
   "version": "3.8.20"
  }
 },
 "nbformat": 4,
 "nbformat_minor": 2
}
